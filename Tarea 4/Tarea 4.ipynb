{
 "cells": [
  {
   "cell_type": "code",
   "execution_count": 1,
   "id": "12127027-6c9b-4350-be5d-67550aa8d231",
   "metadata": {},
   "outputs": [
    {
     "data": {
      "text/plain": [
       "(12567,)"
      ]
     },
     "execution_count": 1,
     "metadata": {},
     "output_type": "execute_result"
    }
   ],
   "source": [
    "import numpy as np\n",
    "import pandas as pd\n",
    "ubicacion=\"D:/Machine/Tarea 4/train.csv\"\n",
    "df=pd.read_csv(ubicacion)\n",
    "X=df[\"x\"].values\n",
    "X.shape"
   ]
  },
  {
   "cell_type": "code",
   "execution_count": 2,
   "id": "38e43daf-b12b-445b-987c-7709b3867b81",
   "metadata": {},
   "outputs": [],
   "source": [
    "Y=df[\"TARGET\"].values"
   ]
  },
  {
   "cell_type": "code",
   "execution_count": 3,
   "id": "7ac52dc3-81bc-4108-9362-dd3cc35b1a04",
   "metadata": {},
   "outputs": [],
   "source": [
    "a=0.0\n",
    "d=0.0\n",
    "b=0.0\n",
    "c=0.0"
   ]
  },
  {
   "cell_type": "code",
   "execution_count": 4,
   "id": "e70133c2-2095-4cd8-b6ef-32a12b4248c7",
   "metadata": {},
   "outputs": [],
   "source": [
    "y_hat=a*np.cos(b*X+c)+d"
   ]
  },
  {
   "cell_type": "code",
   "execution_count": 5,
   "id": "ec68bf76-e765-4342-b565-d1c74e34012c",
   "metadata": {},
   "outputs": [],
   "source": [
    "loss=np.power(Y-y_hat,2)"
   ]
  },
  {
   "cell_type": "code",
   "execution_count": 6,
   "id": "ddd1a688-e064-48cd-925d-11680958038d",
   "metadata": {},
   "outputs": [
    {
     "data": {
      "text/plain": [
       "array([0.64000002, 0.63999983, 0.63999945, ..., 0.63999907, 0.63999973,\n",
       "       0.64000002])"
      ]
     },
     "execution_count": 6,
     "metadata": {},
     "output_type": "execute_result"
    }
   ],
   "source": [
    "loss"
   ]
  },
  {
   "cell_type": "code",
   "execution_count": 7,
   "id": "63b80371-f36e-4662-93bb-1227a1f5b311",
   "metadata": {},
   "outputs": [],
   "source": [
    "def regresion_gradiente(X,Y,lening_range,a,b,c,d):\n",
    "    aux=2*(Y-(a*np.cos(b*X+c)+d))\n",
    "    a=a-lening_range*((aux*(-np.cos(b*X+c))).sum()/float(len(X)))\n",
    "    b=b-lening_range*((aux*(a*np.sin(X))).sum()/float(len(X)))\n",
    "    c=c-lening_range*((aux*(a*np.sin(1))).sum()/float(len(X)))\n",
    "    d=d-lening_range*((aux*(-1)).sum()/float(len(X)))\n",
    "    return a,b,c,d"
   ]
  },
  {
   "cell_type": "code",
   "execution_count": 8,
   "id": "d9feb761-db69-400e-bd80-2695eaa3293c",
   "metadata": {},
   "outputs": [],
   "source": [
    "def model(X,Y,lening_range,a,b,c,d,epochs):\n",
    "    for e in range(epochs):\n",
    "        a,b,c,d=regresion_gradiente(X,Y,lening_range,a,b,c,d)\n",
    "    return a,b,c,d"
   ]
  },
  {
   "cell_type": "code",
   "execution_count": 9,
   "id": "12d01a84-5c40-46da-8c5f-fb151f3b3cef",
   "metadata": {},
   "outputs": [],
   "source": [
    "def prediccion(X,a,b,c,d):\n",
    "    return(a*np.cos(b*X+c)+d)"
   ]
  },
  {
   "cell_type": "code",
   "execution_count": 10,
   "id": "7202ef66-3e0c-4b29-bb51-f6217c772980",
   "metadata": {},
   "outputs": [],
   "source": [
    "def loss(X,Y,a,b,c,d):\n",
    "    return sum(np.power(Y-prediccion(X,a,b,c,d),2))/len(X)"
   ]
  },
  {
   "cell_type": "code",
   "execution_count": 41,
   "id": "9a292e62-735a-4dc3-a6c4-90cc33db6caf",
   "metadata": {},
   "outputs": [],
   "source": [
    "import random\n",
    "a0,b0,c0,d0=model(X,Y,0.001,random.random(),random.random(),random.random(),random.random(),10)"
   ]
  },
  {
   "cell_type": "code",
   "execution_count": 42,
   "id": "a5ba71a5-5a78-4646-aba6-6f05dddf1871",
   "metadata": {},
   "outputs": [
    {
     "data": {
      "text/plain": [
       "0.6718344073546733"
      ]
     },
     "execution_count": 42,
     "metadata": {},
     "output_type": "execute_result"
    }
   ],
   "source": [
    "a0"
   ]
  },
  {
   "cell_type": "code",
   "execution_count": 43,
   "id": "0414ddd3-9018-45bf-8df8-236d7ef9bc99",
   "metadata": {},
   "outputs": [
    {
     "data": {
      "text/plain": [
       "0.2824631612885858"
      ]
     },
     "execution_count": 43,
     "metadata": {},
     "output_type": "execute_result"
    }
   ],
   "source": [
    "b0"
   ]
  },
  {
   "cell_type": "code",
   "execution_count": 44,
   "id": "f2b09d51-7128-40a1-9021-cca3dd9dd287",
   "metadata": {},
   "outputs": [
    {
     "data": {
      "text/plain": [
       "0.4022597894972161"
      ]
     },
     "execution_count": 44,
     "metadata": {},
     "output_type": "execute_result"
    }
   ],
   "source": [
    "c0"
   ]
  },
  {
   "cell_type": "code",
   "execution_count": 45,
   "id": "f226bd45-c257-4cdc-9bc9-529bce6e1395",
   "metadata": {},
   "outputs": [
    {
     "data": {
      "text/plain": [
       "0.33798594576091917"
      ]
     },
     "execution_count": 45,
     "metadata": {},
     "output_type": "execute_result"
    }
   ],
   "source": [
    "d0"
   ]
  },
  {
   "cell_type": "code",
   "execution_count": 46,
   "id": "d7416182-8521-4afe-a919-74df51485ca8",
   "metadata": {},
   "outputs": [
    {
     "data": {
      "text/plain": [
       "0.367570547725036"
      ]
     },
     "execution_count": 46,
     "metadata": {},
     "output_type": "execute_result"
    }
   ],
   "source": [
    "loss(X,Y,a0,b0,c0,d0)"
   ]
  },
  {
   "cell_type": "code",
   "execution_count": 47,
   "id": "869011bd-69b8-4419-b36e-edc2a56de367",
   "metadata": {},
   "outputs": [],
   "source": [
    "import random\n",
    "a1,b1,c1,d1=model(X,Y,0.001,random.random(),random.random(),random.random(),random.random(),400)"
   ]
  },
  {
   "cell_type": "code",
   "execution_count": 48,
   "id": "e33fb5e5-c9d9-4762-b6c0-602da7652fed",
   "metadata": {},
   "outputs": [
    {
     "data": {
      "text/plain": [
       "0.44555277893433776"
      ]
     },
     "execution_count": 48,
     "metadata": {},
     "output_type": "execute_result"
    }
   ],
   "source": [
    "loss(X,Y,a1,b1,c1,d1)"
   ]
  },
  {
   "cell_type": "code",
   "execution_count": 49,
   "id": "e7b7714c-6419-423f-aeaa-7b32e8724ac4",
   "metadata": {},
   "outputs": [],
   "source": [
    "a2,b2,c2,d2=model(X,Y,0.001,random.random(),random.random(),random.random(),random.random(),10000)"
   ]
  },
  {
   "cell_type": "code",
   "execution_count": 50,
   "id": "c984295e-3405-4fc4-9622-78e1a83d1277",
   "metadata": {},
   "outputs": [
    {
     "data": {
      "text/plain": [
       "0.32551832188796026"
      ]
     },
     "execution_count": 50,
     "metadata": {},
     "output_type": "execute_result"
    }
   ],
   "source": [
    "loss(X,Y,a2,b2,c2,d2)"
   ]
  },
  {
   "cell_type": "code",
   "execution_count": 54,
   "id": "117f76eb-6ed4-4cc2-8490-c69b2ac5b598",
   "metadata": {},
   "outputs": [],
   "source": [
    "a3,b3,c3,d3=model(X,Y,0.001,random.random(),random.random(),random.random(),random.random(),40000)"
   ]
  },
  {
   "cell_type": "code",
   "execution_count": 55,
   "id": "5720d8ef-b29a-4044-b07f-706e79175fba",
   "metadata": {},
   "outputs": [
    {
     "data": {
      "text/plain": [
       "0.00910130892501277"
      ]
     },
     "execution_count": 55,
     "metadata": {},
     "output_type": "execute_result"
    }
   ],
   "source": [
    "loss(X,Y,a3,b3,c3,d3)"
   ]
  },
  {
   "cell_type": "code",
   "execution_count": 57,
   "id": "5a733f84-e224-445e-9143-c7e1a530e65a",
   "metadata": {},
   "outputs": [
    {
     "data": {
      "text/plain": [
       "[<matplotlib.lines.Line2D at 0x1dcb49ae750>]"
      ]
     },
     "execution_count": 57,
     "metadata": {},
     "output_type": "execute_result"
    },
    {
     "data": {
      "image/png": "[encoded data removed]",
      "text/plain": [
       "<Figure size 1500x400 with 4 Axes>"
      ]
     },
     "metadata": {},
     "output_type": "display_data"
    }
   ],
   "source": [
    "fig,axs=plt.subplots(1,4,figsize=(15,4))\n",
    "axs[0].plot(X,Y,\"orange\",label=\"datos originales\")\n",
    "axs[0].plot(X,prediccion(X,a0,b0,c0,d0),\"blue\",label=\"prediccion\")\n",
    "axs[1].plot(X,Y,\"orange\",label=\"datos originales\")\n",
    "axs[1].plot(X,prediccion(X,a1,b1,c1,d1),\"blue\",label=\"prediccion\")\n",
    "axs[2].plot(X,Y,\"orange\",label=\"datos originales\")\n",
    "axs[2].plot(X,prediccion(X,a2,b2,c2,d2),\"blue\",label=\"prediccion\")\n",
    "axs[3].plot(X,Y,\"orange\",label=\"datos originales\")\n",
    "axs[3].plot(X,prediccion(X,a3,b3,c3,d3),\"blue\",label=\"prediccion\")"
   ]
  },
  {
   "cell_type": "code",
   "execution_count": 59,
   "id": "edb3c57d-faf8-408b-a69c-fa499e155736",
   "metadata": {},
   "outputs": [],
   "source": [
    "import math\n",
    "X_1= np.arange(30 , 20*math.pi, 0.001).astype(np.float32)"
   ]
  },
  {
   "cell_type": "code",
   "execution_count": 61,
   "id": "ec6b67cf-9832-43da-975f-fcefa53cd4ea",
   "metadata": {},
   "outputs": [
    {
     "data": {
      "text/plain": [
       "array([ 0.69397175,  0.6943506 ,  0.6947305 , ..., -0.6067481 ,\n",
       "       -0.60660064, -0.60645306], dtype=float32)"
      ]
     },
     "execution_count": 61,
     "metadata": {},
     "output_type": "execute_result"
    }
   ],
   "source": [
    "prediccion(X_1,a3,b3,c3,d3)"
   ]
  },
  {
   "cell_type": "code",
   "execution_count": 62,
   "id": "85cb3906-546b-4bc0-a9e8-28f746f45892",
   "metadata": {},
   "outputs": [
    {
     "data": {
      "text/plain": [
       "[<matplotlib.lines.Line2D at 0x1dcb4d0a990>]"
      ]
     },
     "execution_count": 62,
     "metadata": {},
     "output_type": "execute_result"
    },
    {
     "data": {
      "image/png": "[encoded data removed]",
      "text/plain": [
       "<Figure size 640x480 with 1 Axes>"
      ]
     },
     "metadata": {},
     "output_type": "display_data"
    }
   ],
   "source": [
    "plt.plot(X_1,prediccion(X_1,a3,b3,c3,d3),\"blue\")"
   ]
  },
  {
   "cell_type": "code",
   "execution_count": 64,
   "id": "b9efc997-6e35-40c4-a310-66cd4ade8ce6",
   "metadata": {},
   "outputs": [],
   "source": [
    "import sounddevice as sd"
   ]
  },
  {
   "cell_type": "code",
   "execution_count": 66,
   "id": "9e94a17e-8a2b-4e9d-959f-d2b446030535",
   "metadata": {},
   "outputs": [],
   "source": [
    "sd.play(prediccion(X_1,a3,b3,c3,d3))"
   ]
  },
  {
   "cell_type": "code",
   "execution_count": 67,
   "id": "4943acba-ad92-4c73-acad-05cd02fa7186",
   "metadata": {},
   "outputs": [],
   "source": [
    "ubicacion_1=\"D:/Machine/Tarea 4/test.csv\"\n",
    "df=pd.read_csv(ubicacion_1)"
   ]
  },
  {
   "cell_type": "code",
   "execution_count": 70,
   "id": "8b9ffee4-a32f-4a96-a2bd-b2820c831780",
   "metadata": {},
   "outputs": [],
   "source": [
    "X_test=df[\"x\"].values"
   ]
  },
  {
   "cell_type": "code",
   "execution_count": 71,
   "id": "c65b2962-4401-4d49-83c5-c0d26b039954",
   "metadata": {},
   "outputs": [],
   "source": [
    "TARGET=prediccion(X_test,a3,b3,c3,d3)"
   ]
  },
  {
   "cell_type": "code",
   "execution_count": 72,
   "id": "ee3ebd3d-a5ec-4087-8eff-5a2b6d6eb397",
   "metadata": {},
   "outputs": [
    {
     "data": {
      "text/plain": [
       "(50266,)"
      ]
     },
     "execution_count": 72,
     "metadata": {},
     "output_type": "execute_result"
    }
   ],
   "source": [
    "TARGET.shape"
   ]
  },
  {
   "cell_type": "code",
   "execution_count": 77,
   "id": "3e651d0b-922f-4d99-b12c-bf04ae913e30",
   "metadata": {},
   "outputs": [
    {
     "data": {
      "text/plain": [
       "(50266,)"
      ]
     },
     "execution_count": 77,
     "metadata": {},
     "output_type": "execute_result"
    }
   ],
   "source": [
    "df[\"example_id\"].shape"
   ]
  },
  {
   "cell_type": "code",
   "execution_count": 79,
   "id": "cae3d01b-2291-44bd-aa67-3a0da1e0b238",
   "metadata": {},
   "outputs": [],
   "source": [
    "kaggle={\"example_id\":df[\"example_id\"].values,\"TARGET\":TARGET}"
   ]
  },
  {
   "cell_type": "code",
   "execution_count": 80,
   "id": "0bdb8dcd-1b35-47b9-b803-f689c9b8b46a",
   "metadata": {},
   "outputs": [],
   "source": [
    "kaggle_data=pd.DataFrame(kaggle)"
   ]
  },
  {
   "cell_type": "code",
   "execution_count": 82,
   "id": "e6be499c-5e4d-4d38-adc3-e84901b0f1f9",
   "metadata": {},
   "outputs": [],
   "source": [
    "kaggle_data.to_csv(\"D:/Machine/Tarea 4/kaggle.csv\",index=False)"
   ]
  },
  {
   "cell_type": "code",
   "execution_count": null,
   "id": "5a200375-7371-4e01-a25b-8852c12235c6",
   "metadata": {},
   "outputs": [],
   "source": []
  }
 ],
 "metadata": {
  "kernelspec": {
   "display_name": "Python 3 (ipykernel)",
   "language": "python",
   "name": "python3"
  },
  "language_info": {
   "codemirror_mode": {
    "name": "ipython",
    "version": 3
   },
   "file_extension": ".py",
   "mimetype": "text/x-python",
   "name": "python",
   "nbconvert_exporter": "python",
   "pygments_lexer": "ipython3",
   "version": "3.11.3"
  }
 },
 "nbformat": 4,
 "nbformat_minor": 5
}
